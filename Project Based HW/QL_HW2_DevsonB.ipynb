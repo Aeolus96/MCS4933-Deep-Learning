{
  "nbformat": 4,
  "nbformat_minor": 0,
  "metadata": {
    "colab": {
      "provenance": []
    },
    "kernelspec": {
      "name": "python3",
      "display_name": "Python 3"
    },
    "language_info": {
      "name": "python"
    }
  },
  "cells": [
    {
      "cell_type": "markdown",
      "source": [
        "# HW2: Going Outside (Graph Search) using Q-learning \n",
        "\n",
        "https://www.cnblogs.com/dragonir/p/6224313.html (Chinese & English from the original page)\n",
        "\n",
        "Read Lecture Slides #19-#20 in `11_QLearn.pdf`"
      ],
      "metadata": {
        "id": "Uh0UYKqs1q0u"
      }
    },
    {
      "cell_type": "code",
      "source": [
        "'''\n",
        "Name: Devson Butani\n",
        "ID: 000732711\n",
        "LTU Honor Code: \"I pledge that on all academic work that I submit, I will \n",
        "neither give nor receive unauthorized aid, nor will I present another person's \n",
        "work as my own.\"\n",
        "'''\n",
        "\n",
        "\n",
        "import numpy as np\n",
        "import random\n",
        "\n",
        "gamma=0.8\n",
        "Q=np.zeros([6,6])\n",
        "R=np.array([[-1,-1,-1,-1,0,-1],  # 0\n",
        "            [-1,-1,-1,0,-1,100], # 1\n",
        "            [-1,-1,-1,0,-1,-1],  # 2\n",
        "            [-1,0,0,-1,0,-1],    # 3\n",
        "            [0,-1,-1,0,-1,100],  # 4\n",
        "            [-1,0,-1,-1,0,100]]) # 5\n",
        "print(np.array_str(R, precision=3))\n",
        "print(R)"
      ],
      "metadata": {
        "id": "o05F8__n25fF",
        "colab": {
          "base_uri": "https://localhost:8080/"
        },
        "outputId": "fd01955f-232a-4ef6-e6a8-f149e1cdd66d"
      },
      "execution_count": null,
      "outputs": [
        {
          "output_type": "stream",
          "name": "stdout",
          "text": [
            "[[ -1  -1  -1  -1   0  -1]\n",
            " [ -1  -1  -1   0  -1 100]\n",
            " [ -1  -1  -1   0  -1  -1]\n",
            " [ -1   0   0  -1   0  -1]\n",
            " [  0  -1  -1   0  -1 100]\n",
            " [ -1   0  -1  -1   0 100]]\n",
            "[[ -1  -1  -1  -1   0  -1]\n",
            " [ -1  -1  -1   0  -1 100]\n",
            " [ -1  -1  -1   0  -1  -1]\n",
            " [ -1   0   0  -1   0  -1]\n",
            " [  0  -1  -1   0  -1 100]\n",
            " [ -1   0  -1  -1   0 100]]\n"
          ]
        }
      ]
    },
    {
      "cell_type": "markdown",
      "source": [
        "### Python review before begining the QL code"
      ],
      "metadata": {
        "id": "WSt1a3xMnAKM"
      }
    },
    {
      "cell_type": "code",
      "source": [
        "# Python arrays review\n",
        "print(R[2])\n",
        "print(R[1][5]) \n",
        "print(R[1,5])\n",
        "print(R[1,])\n",
        "print(R[1, [4,5] ])"
      ],
      "metadata": {
        "colab": {
          "base_uri": "https://localhost:8080/"
        },
        "id": "SFhl97_PaFBh",
        "outputId": "0d6a0619-45f5-4c5b-b619-1cf06d064c04"
      },
      "execution_count": null,
      "outputs": [
        {
          "output_type": "stream",
          "name": "stdout",
          "text": [
            "[-1 -1 -1  0 -1 -1]\n",
            "100\n",
            "100\n",
            "[ -1  -1  -1   0  -1 100]\n",
            "[ -1 100]\n"
          ]
        }
      ]
    },
    {
      "cell_type": "code",
      "source": [
        "# enumerate test: to get a index and the value from the iterable at the same time.\n",
        "for index, value in enumerate(R[0]):\n",
        "  print(index, value)"
      ],
      "metadata": {
        "colab": {
          "base_uri": "https://localhost:8080/"
        },
        "id": "28iTwnH9eMSw",
        "outputId": "0ab06e0f-e71c-46a8-9048-b376888e7d87"
      },
      "execution_count": null,
      "outputs": [
        {
          "output_type": "stream",
          "name": "stdout",
          "text": [
            "0 -1\n",
            "1 -1\n",
            "2 -1\n",
            "3 -1\n",
            "4 0\n",
            "5 -1\n"
          ]
        }
      ]
    },
    {
      "cell_type": "code",
      "source": [
        "# Python review: to test int(np_array)\n",
        "print(int(np.array([1]))) "
      ],
      "metadata": {
        "colab": {
          "base_uri": "https://localhost:8080/"
        },
        "id": "Qpk5fVC9b3UL",
        "outputId": "03dd8236-b8e5-473c-9d21-557b3cb66771"
      },
      "execution_count": null,
      "outputs": [
        {
          "output_type": "stream",
          "name": "stdout",
          "text": [
            "1\n"
          ]
        }
      ]
    },
    {
      "cell_type": "code",
      "source": [
        "# a is an array of integers.\n",
        "a = np.array([1, 2, 3, 4, 5, 6])\n",
        "\n",
        "print ('Indices of elements > 3:')\n",
        "i = np.where(a>3)\n",
        "print(i)\n",
        "print(i[0])\n",
        "b = a[i] # a[i[0]] also works\n",
        "print(b)"
      ],
      "metadata": {
        "colab": {
          "base_uri": "https://localhost:8080/"
        },
        "id": "xjnOZtJEmGn3",
        "outputId": "73633c95-0a2f-44c0-a074-6a21b8ff5d70"
      },
      "execution_count": null,
      "outputs": [
        {
          "output_type": "stream",
          "name": "stdout",
          "text": [
            "Indices of elements > 3:\n",
            "(array([3, 4, 5]),)\n",
            "[3 4 5]\n",
            "[4 5 6]\n"
          ]
        }
      ]
    },
    {
      "cell_type": "markdown",
      "source": [
        "### QL code for building Q-table"
      ],
      "metadata": {
        "id": "Munsf74jnUXU"
      }
    },
    {
      "cell_type": "code",
      "source": [
        "scores = []\n",
        "for episode in range(900): #>> HOW MANY TIMES TO TRAIN RANDOM PATHS\n",
        "  currSt = random.randint(0,5) # initial state for the episode. 0 and 5 both included\n",
        "  #print(f\"\\n*****Current State = {currSt}\")\n",
        "  flag = 0 # to handle if initial currSt chosen at randome is 5.\n",
        "           # without this, the last row of Q will be all zeros\n",
        "  while flag == 0 or currSt != 5: #>> GO UNTILL OUTSIDE THE HOUSE (STATE 5) AFTER AT LEAST ONE LOOP\n",
        "    flag = 1 \n",
        "    nextSts_fr_currSt = []\n",
        "    nextActs_fr_nextSt = []\n",
        "\n",
        "    #>> FIND ALL POSSIBLE NEXT STATES FOR CURRENT STATE\n",
        "    for index, value in enumerate(R[currSt]):\n",
        "      if value != -1:\n",
        "        nextSts_fr_currSt.append(index) #>> MAKES A 1-D ARRAY OF POSSIBLE STATES\n",
        "    #print(f\"possible actions (reachable states) from Current State = {nextSts_fr_currSt}\")\n",
        "\n",
        "    #>> SELECT ONE FROM ABOVE TO BE NEXT STATE\n",
        "    nextSt = random.choice(np.array(nextSts_fr_currSt)) # choice(): we can get a random sample from 1Darray\n",
        "    #print(f\"chosen next action = {nextSt}\")\n",
        "    \n",
        "    #>> FIND ALL POSSIBLE ACTIONS FROM NEXT STATE\n",
        "    for index, value in enumerate(R[nextSt]):\n",
        "      if value != -1:\n",
        "        nextActs_fr_nextSt.append(index) #>> MAKES A 1-D ARRAY OF POSSIBLE ACTIONS\n",
        "    #print(f\"possible actions (reachable states) from next_st = {nextActs_fr_nextSt}\")\n",
        "    #print(f\"  Before gamma*max: {Q[nextSt, nextActs_fr_nextSt]}\")\n",
        "    \n",
        "    #>> FIND THE MAX YEILDING ACTION FROM ABOVE ARRAY AND ADJUST THE PATH TAKEN'S WORTH\n",
        "    Q[currSt, nextSt] = R[currSt, nextSt] + gamma*max(Q[nextSt, nextActs_fr_nextSt]) # See sample code below to understand\n",
        "    #Q[currSt, nextSt] =  gamma*max(R[currSt, nextSt] + Q[nextSt, nextActs_fr_nextSt])\n",
        "    #print(f\"  Updated: {Q[currSt, nextSt]}\")\n",
        "    \n",
        "    #>> RUN IT AGAIN FOR THE NEW CURRENT STATE UNTILL GOAL STATE\n",
        "    currSt = nextSt\n",
        "\n",
        "  #>> MAKES A 1-D ARRAY OF CURRENT Q WITH RESPECT TO MAX(Q) UP TILL NOW\n",
        "  #>> THIS ALLOWS LOGGING THE LEARNING CURVE FOR EACH EPISODE\n",
        "  # to graph for each episode\n",
        "  if (np.max(Q) > 0):\n",
        "    scores.append(np.sum(Q/np.max(Q)*100))\n",
        "  else:\n",
        "    scores.append(0)\n",
        "\n",
        "#>> RESULTING Q TABLE\n",
        "print(np.array_str(Q, precision=1), end='\\n\\n')\n",
        "#>> Q TABLE AS PERCENTAGE OF MAX(Q)\n",
        "print(np.array_str(Q*100/np.max(Q), precision=0))"
      ],
      "metadata": {
        "colab": {
          "base_uri": "https://localhost:8080/"
        },
        "id": "8OtwF1Xt2rTf",
        "outputId": "f2ae30f2-d4ab-40d4-9f10-111976886b6d"
      },
      "execution_count": null,
      "outputs": [
        {
          "output_type": "stream",
          "name": "stdout",
          "text": [
            "[[  0.   0.   0.   0. 400.   0.]\n",
            " [  0.   0.   0. 320.   0. 500.]\n",
            " [  0.   0.   0. 320.   0.   0.]\n",
            " [  0. 400. 256.   0. 400.   0.]\n",
            " [320.   0.   0. 320.   0. 500.]\n",
            " [  0. 400.   0.   0. 400. 500.]]\n",
            "\n",
            "[[  0.   0.   0.   0.  80.   0.]\n",
            " [  0.   0.   0.  64.   0. 100.]\n",
            " [  0.   0.   0.  64.   0.   0.]\n",
            " [  0.  80.  51.   0.  80.   0.]\n",
            " [ 64.   0.   0.  64.   0. 100.]\n",
            " [  0.  80.   0.   0.  80. 100.]]\n"
          ]
        }
      ]
    },
    {
      "cell_type": "code",
      "source": [
        "import pylab as plt\n",
        "plt.plot(scores)\n",
        "plt.show()"
      ],
      "metadata": {
        "colab": {
          "base_uri": "https://localhost:8080/",
          "height": 265
        },
        "id": "ncdzx9XlgCNB",
        "outputId": "bbb6d351-fc6a-467b-a636-396f072d4842"
      },
      "execution_count": null,
      "outputs": [
        {
          "output_type": "display_data",
          "data": {
            "text/plain": [
              "<Figure size 432x288 with 1 Axes>"
            ],
            "image/png": "[encoded data removed]"
          },
          "metadata": {
            "needs_background": "light"
          }
        }
      ]
    },
    {
      "cell_type": "markdown",
      "source": [
        "### using the Q-table for testing (finding the best path)"
      ],
      "metadata": {
        "id": "3PywmvbAnhCd"
      }
    },
    {
      "cell_type": "code",
      "source": [
        "#>> ROUND Q TABLE TO 2 DECIMAL PLACES FOR FLOAT COMPARISONS\n",
        "Q = np.round(Q,2)\n",
        "# print(Q)\n",
        "\n",
        "#>> SET STARTING POINT FOR PATH\n",
        "currSt = 2\n",
        "steps = [currSt]\n",
        "\n",
        "while currSt != 5: #>> RUN UNTILL GOAL REACHED (STATE 5)\n",
        "  \n",
        "  # #>> FIND THE MAXIMUM YEILD FROM CURRENT STATE\n",
        "  # max_q_for_currSt = max(Q[currSt])\n",
        "  # nextSts_fr_currSt = []\n",
        "\n",
        "  # #>> FIND POSSIBLE NEXT STATES THAT CAN ACHIEVE THE ABOVE YIELD\n",
        "  # for index, value in enumerate(Q[currSt]):\n",
        "  #   # print(index, value)\n",
        "  #   if value == max_q_for_currSt:\n",
        "  #     # print(index)\n",
        "  #     nextSts_fr_currSt.append(index)\n",
        "\n",
        "  # #>> CHOOSE ONE ACTION AS NEXT STATE\n",
        "  # nextSt = random.choice(np.array(nextSts_fr_currSt))\n",
        "  # print(f\"Available choices: {nextSts_fr_currSt} --> Chose: {nextSt}\")\n",
        "  # steps.append(nextSt) #>> ADD THE STEP TAKEN TO OVERALL PATH\n",
        "  # currSt = nextSt\n",
        "  \n",
        "  #>> ABOVE CODE BUT CONDENSED USING NUMPY\n",
        "  # print(random.choice(np.array(np.where(Q[currSt] == max(Q[currSt]))[0])))\n",
        "  nextSt = random.choice(np.array(np.where(Q[currSt] == max(Q[currSt]))[0]))\n",
        "  steps.append(nextSt) #>> ADD THE STEP TAKEN TO OVERALL PATH\n",
        "  currSt = nextSt\n",
        "\n",
        "print(f\"Most efficient path: {steps}\")"
      ],
      "metadata": {
        "colab": {
          "base_uri": "https://localhost:8080/"
        },
        "id": "ffRKuE3Z13Xv",
        "outputId": "52267b28-8188-46e0-9891-a386f3447300"
      },
      "execution_count": null,
      "outputs": [
        {
          "output_type": "stream",
          "name": "stdout",
          "text": [
            "Most efficient path: [2, 3, 1, 5]\n"
          ]
        }
      ]
    },
    {
      "cell_type": "markdown",
      "source": [
        "#>> HW2 - Full code with QLearn() and test()\n"
      ],
      "metadata": {
        "id": "pBRdoSsFkRrK"
      }
    },
    {
      "cell_type": "code",
      "source": [
        "import numpy as np\n",
        "import random\n",
        "import pylab as plt\n",
        "\n",
        "#>> STARTING TABLES\n",
        "R1 = np.array([[-1,-1,-1,-1,0,-1],  # 0 >> PEGHOTY'S HOUSE, Goal: 5\n",
        "              [-1,-1,-1,0,-1,100],  # 1\n",
        "              [-1,-1,-1,0,-1,-1],   # 2\n",
        "              [-1,0,0,-1,0,-1],     # 3\n",
        "              [0,-1,-1,0,-1,100],   # 4\n",
        "              [-1,0,-1,-1,0,100]])  # 5\n",
        "Q1 = np.zeros([6,6])\n",
        "\n",
        "R2 = np.array([[-1,-1,-1,-1,-1,0,-1],     # 0 >> CHUNG'S HOUSE, Goal: 6\n",
        "              [-1,-1,-1,-1,0, -1,100],    # 1\n",
        "              [-1,-1,-1, 0,-1,-1,100],    # 2 \n",
        "              [-1, -1, 0, -1, 0, -1, -1], # 3 \n",
        "              [-1, 0, -1, 0, -1, 0, -1],  # 4 \n",
        "              [ 0,-1,-1,-1, 0,-1,-1],     # 5 \n",
        "              [-1, 0, 0, -1,-1,-1,100]])  # 6\n",
        "Q2 = np.zeros([7,7])\n",
        "\n",
        "#>> PERFORM Q-LEARNING AND GIVE OUT THE QUALITY TABLE\n",
        "def QLearn(np_reward_table, np_quality_table, goal_state, training_range=900, gamma=0.8):\n",
        "  np_quality_table = np.zeros_like(np_reward_table) #>> MAKE ZERO ARRAY WITH SAME SHAPE AS REWARD TABLE\n",
        "  scores = [] #>> INIT EMPTY ARRAY TO KEEP TRACK OF LEARNING\n",
        "  \n",
        "  for episode in range(training_range): #>> HOW MANY TIMES TO TRAIN RANDOM PATHS\n",
        "    currSt = random.randint(0,(np.shape(np_reward_table)[0] - 1)) #>> 0 to MAX STATE COUNT\n",
        "    flag = 0 # to handle if initial currSt chosen at randome is 5.\n",
        "  \n",
        "    #>> GO UNTILL OUTSIDE THE HOUSE (GOAL STATE) AFTER AT LEAST ONE LOOP\n",
        "    while flag == 0 or currSt != goal_state:\n",
        "      flag = 1 \n",
        "      nextSts_fr_currSt = []\n",
        "      nextActs_fr_nextSt = []\n",
        "      \n",
        "      #>> FIND ALL POSSIBLE NEXT STATES FOR CURRENT STATE\n",
        "      for index, value in enumerate(np_reward_table[currSt]):\n",
        "        if value != -1:\n",
        "          nextSts_fr_currSt.append(index) #>> MAKES A 1-D ARRAY OF POSSIBLE STATES\n",
        "      \n",
        "      #>> SELECT ONE FROM ABOVE TO BE NEXT STATE\n",
        "      nextSt = random.choice(np.array(nextSts_fr_currSt)) # choice(): we can get a random sample from 1Darray\n",
        "      \n",
        "      #>> FIND ALL POSSIBLE ACTIONS FROM NEXT STATE\n",
        "      for index, value in enumerate(np_reward_table[nextSt]):\n",
        "        if value != -1:\n",
        "          nextActs_fr_nextSt.append(index) #>> MAKES A 1-D ARRAY OF POSSIBLE ACTIONS\n",
        "      \n",
        "      #>> FIND THE MAX YEILDING ACTION FROM ABOVE ARRAY AND ADJUST THE PATH TO BE TAKEN'S WORTH\n",
        "      np_quality_table[currSt, nextSt] = np_reward_table[currSt, nextSt] + gamma*max(np_quality_table[nextSt, nextActs_fr_nextSt])\n",
        "      #>> RUN IT AGAIN FOR THE NEW CURRENT STATE UNTIL GOAL STATE\n",
        "      currSt = nextSt\n",
        "  \n",
        "    #>> MAKES A 1-D ARRAY OF CURRENT Q WITH RESPECT TO MAX(Q) UP TILL NOW. THIS ALLOWS GRAPHING THE LEARNING CURVE FOR EACH EPISODE\n",
        "    if (np.max(np_quality_table) > 0):\n",
        "      scores.append(np.sum(np_quality_table/np.max(np_quality_table)*100))\n",
        "    else:\n",
        "      scores.append(0)\n",
        "\n",
        "  #>> RESULTING RAW Q TABLE\n",
        "  # print(np.array_str(np_quality_table, precision=1), end='\\n\\n')\n",
        "  #>> Q TABLE AS PERCENTAGE OF MAX(Q) - ROUNDED AFTER PERCENTAGE\n",
        "  np_quality_table = np.round((np_quality_table*100/np.max(np_quality_table))) #>> ROUNDING PRECESION CAN BE CHANGED DEPENDING ON APPLICATION\n",
        "  print(f\"Quality Table = \")\n",
        "  print(f\"{np_quality_table}\")\n",
        "  \n",
        "  #>> PLOT THE LEARNING CURVE USING SCORES GATHERED FOR EVERY TRAINING EPISODE\n",
        "  plt.plot(scores)\n",
        "  plt.show()\n",
        "\n",
        "  return np_quality_table\n",
        "\n",
        "#>> FIND THE BEST PATH FROM ALL STATES USING THE INPUT QUALITY TABLE\n",
        "def test(np_quality_table, goal_state):\n",
        "  for starting_point in range(np.shape(np_quality_table)[0] - 1):\n",
        "  #>> SET STARTING POINT FOR PATH\n",
        "    currSt = starting_point\n",
        "    steps = [currSt]\n",
        "    while currSt != goal_state: #>> RUN UNTILL GOAL REACHED\n",
        "      nextSt = random.choice(np.array(np.where(np_quality_table[currSt] == max(np_quality_table[currSt]))[0]))\n",
        "      steps.append(nextSt) #>> ADD THE STEP TAKEN TO OVERALL PATH\n",
        "      currSt = nextSt\n",
        "    print(f\"Most efficient path: {steps}\") #>> PRINT THE COMPLETE PATH ONCE GOAL REACHED"
      ],
      "metadata": {
        "id": "mK5f9657kixS"
      },
      "execution_count": null,
      "outputs": []
    },
    {
      "cell_type": "markdown",
      "source": [
        "# Main Code:"
      ],
      "metadata": {
        "id": "vl_IV-Bw8IVI"
      }
    },
    {
      "cell_type": "code",
      "source": [
        "print(\"---------------------Peghoty's House---------------------\")\n",
        "Q1 = QLearn(R1,Q1,5)\n",
        "test(Q1,5)\n",
        "\n",
        "print(\"---------------------Chung's House---------------------\")\n",
        "Q2 = QLearn(R2,Q2,6)\n",
        "test(Q2,6)"
      ],
      "metadata": {
        "colab": {
          "base_uri": "https://localhost:8080/",
          "height": 1000
        },
        "id": "jDSksvrQsmWI",
        "outputId": "9f20df85-907e-49c6-bbdc-976849b82c7f"
      },
      "execution_count": null,
      "outputs": [
        {
          "output_type": "stream",
          "name": "stdout",
          "text": [
            "---------------------Peghoty's House---------------------\n",
            "Quality Table = \n",
            "[[  0.   0.   0.   0.  80.   0.]\n",
            " [  0.   0.   0.  64.   0. 100.]\n",
            " [  0.   0.   0.  64.   0.   0.]\n",
            " [  0.  80.  51.   0.  80.   0.]\n",
            " [ 64.   0.   0.  64.   0. 100.]\n",
            " [  0.  80.   0.   0.  80. 100.]]\n"
          ]
        },
        {
          "output_type": "display_data",
          "data": {
            "text/plain": [
              "<Figure size 432x288 with 1 Axes>"
            ],
            "image/png": "[encoded data removed]"
          },
          "metadata": {
            "needs_background": "light"
          }
        },
        {
          "output_type": "stream",
          "name": "stdout",
          "text": [
            "Most efficient path: [0, 4, 5]\n",
            "Most efficient path: [1, 5]\n",
            "Most efficient path: [2, 3, 1, 5]\n",
            "Most efficient path: [3, 1, 5]\n",
            "Most efficient path: [4, 5]\n",
            "---------------------Chung's House---------------------\n",
            "Quality Table = \n",
            "[[  0.   0.   0.   0.   0.  51.   0.]\n",
            " [  0.   0.   0.   0.  64.   0. 100.]\n",
            " [  0.   0.   0.  64.   0.   0. 100.]\n",
            " [  0.   0.  80.   0.  64.   0.   0.]\n",
            " [  0.  80.   0.  64.   0.  51.   0.]\n",
            " [ 41.   0.   0.   0.  64.   0.   0.]\n",
            " [  0.  80.  80.   0.   0.   0. 100.]]\n"
          ]
        },
        {
          "output_type": "display_data",
          "data": {
            "text/plain": [
              "<Figure size 432x288 with 1 Axes>"
            ],
            "image/png": "[encoded data removed]"
          },
          "metadata": {
            "needs_background": "light"
          }
        },
        {
          "output_type": "stream",
          "name": "stdout",
          "text": [
            "Most efficient path: [0, 5, 4, 1, 6]\n",
            "Most efficient path: [1, 6]\n",
            "Most efficient path: [2, 6]\n",
            "Most efficient path: [3, 2, 6]\n",
            "Most efficient path: [4, 1, 6]\n",
            "Most efficient path: [5, 4, 1, 6]\n"
          ]
        }
      ]
    }
  ]
}