{
  "cells": [
    {
      "cell_type": "markdown",
      "metadata": {
        "id": "1AZc6GDuZFdB"
      },
      "source": [
        "# HW8.1: Segmented Skin Cancer Image Classification using DL models & techniques with Keras\n",
        "---\n",
        "###### Name: Devson Butani\n",
        "###### ID: 000732711\n",
        "###### LTU Honor Code: \"I pledge that on all academic work that I submit, I will neither give nor receive unauthorized aid, nor will I present another person's work as my own.\""
      ]
    },
    {
      "cell_type": "markdown",
      "metadata": {
        "id": "8a3NaCnVJDVh"
      },
      "source": [
        "# Get dataset from `Google Drive`"
      ]
    },
    {
      "cell_type": "code",
      "execution_count": null,
      "metadata": {
        "colab": {
          "base_uri": "https://localhost:8080/",
          "height": 74
        },
        "id": "4lnwook1pKjK",
        "outputId": "d598e574-8f02-41c3-cb59-e295c9691bfb"
      },
      "outputs": [],
      "source": [
        "# # Mount Google Drive\n",
        "# from google.colab import drive\n",
        "# drive.mount('/content/drive')\n",
        "\n",
        "# # Change directory to a drive folder of choice - Runs and models will be saved here\n",
        "# %cd '/content/drive/MyDrive/DL_data'\n",
        "%pwd # Verify"
      ]
    },
    {
      "cell_type": "code",
      "execution_count": null,
      "metadata": {
        "colab": {
          "base_uri": "https://localhost:8080/"
        },
        "id": "1xUAx-mLbHgw",
        "outputId": "ebb18a94-c749-4140-95ea-07ca3d45e94f"
      },
      "outputs": [],
      "source": [
        "train_dir = \"skin_cancer/train\"\n",
        "vali_dir = \"skin_cancer/validation\"\n",
        "test_dir = \"skin_cancer/test\"\n",
        "\n",
        "train_benign_dir = \"skin_cancer/train/benign\"\n",
        "train_malignant_dir = \"skin_cancer/train/malignant\"\n",
        "vali_benign_dir = \"skin_cancer/validation/benign\"\n",
        "vali_malignant_dir = \"skin_cancer/validation/malignant\"\n",
        "test_benign_dir = \"skin_cancer/test/benign\"\n",
        "test_malignant_dir = \"skin_cancer/test/malignant\"\n",
        "\n",
        "import os, shutil\n",
        "\n",
        "print(\"total training benign images:\", len(os.listdir(train_benign_dir)))\n",
        "print(\"total training malignant images:\", len(os.listdir(train_malignant_dir)))\n",
        "print(\"total validation benign images:\", len(os.listdir(vali_benign_dir)))\n",
        "print(\"total validation malignant images:\", len(os.listdir(vali_malignant_dir)))\n",
        "print(\"total test benign images:\", len(os.listdir(test_benign_dir)))\n",
        "print(\"total test malignant images:\", len(os.listdir(test_malignant_dir)))"
      ]
    },
    {
      "cell_type": "markdown",
      "metadata": {
        "id": "vfwpo6Jlcq_6"
      },
      "source": [
        "Dataset seems to be mostly balanced with a slight bias towards the benign class."
      ]
    },
    {
      "cell_type": "markdown",
      "metadata": {
        "id": "ZYchV5RWwdv5"
      },
      "source": [
        "# Install Dependencies"
      ]
    },
    {
      "cell_type": "code",
      "execution_count": null,
      "metadata": {
        "id": "DJnmqphuY2eI"
      },
      "outputs": [],
      "source": [
        "# %pip install comet_ml --quiet\n",
        "# %pip install pillow\n",
        "# %pip install matplotlib"
      ]
    },
    {
      "cell_type": "markdown",
      "metadata": {
        "id": "crOcPHobwhGL"
      },
      "source": [
        "# Initialize `Comet` for datalogging"
      ]
    },
    {
      "cell_type": "code",
      "execution_count": null,
      "metadata": {
        "colab": {
          "base_uri": "https://localhost:8080/"
        },
        "id": "HNQRM0U3caiY",
        "outputId": "b8bec234-9a45-4c33-a83b-a1828e85c748"
      },
      "outputs": [],
      "source": [
        "import comet_ml\n",
        "\n",
        "comet_ml.config.save(api_key=\"mQStuXAxGmHmK1vOsTRucvz76\")  # Insert API key from comet user account\n",
        "comet_ml.init(project_name=\"HW8_Skin_Cancer_Classification\")"
      ]
    },
    {
      "cell_type": "markdown",
      "metadata": {
        "id": "cgqwGSwtzVWD"
      },
      "source": [
        "# Import Dependencies"
      ]
    },
    {
      "cell_type": "code",
      "execution_count": null,
      "metadata": {
        "id": "e-5rRYaUw5AF"
      },
      "outputs": [],
      "source": [
        "import numpy as np\n",
        "from tensorflow import keras\n",
        "import tensorflow as tf\n",
        "from keras import layers\n",
        "from keras import models\n",
        "from keras import optimizers"
      ]
    },
    {
      "cell_type": "code",
      "execution_count": null,
      "metadata": {
        "colab": {
          "base_uri": "https://localhost:8080/"
        },
        "id": "IqR2PQG4ZaZ0",
        "outputId": "5d35d1ef-cdfa-4c8c-9a33-2fcbc4b69137"
      },
      "outputs": [],
      "source": [
        "# Check if GPU available and linked to tensorflow so that keras can use it\n",
        "print(\"Num GPUs Available: \", len(tf.config.list_physical_devices(\"GPU\")))"
      ]
    },
    {
      "cell_type": "markdown",
      "metadata": {
        "id": "8cwwQsE5ewhP"
      },
      "source": [
        "# Setup Data Generator and Augmentation"
      ]
    },
    {
      "cell_type": "code",
      "execution_count": null,
      "metadata": {
        "colab": {
          "base_uri": "https://localhost:8080/"
        },
        "id": "LVmkBaILekeT",
        "outputId": "1b3c4779-5701-4f37-f534-2f01da93e1c5"
      },
      "outputs": [],
      "source": [
        "from keras.preprocessing.image import ImageDataGenerator\n",
        "\n",
        "img_size = (60, 60)  # Need to investigate why 224x224 is lower accuracy. Maybe layer size?\n",
        "\n",
        "train_datagen = ImageDataGenerator(\n",
        "    rescale=1.0 / 255,  # Rescale the pixel values from [0-255] to [0, 1] for easier NN processing\n",
        "    # rotation_range=15,  # Full range, samples may not be orientation normalized\n",
        "    # width_shift_range=0.05,  # lateral shift\n",
        "    # height_shift_range=0.05,  # vertical shift\n",
        "    # shear_range=0.1, # Small because most samples are taken flat to surface. Does not improve performance\n",
        "    # zoom_range=0.02,  # zoom can vary in real-life samples.\n",
        "    horizontal_flip=True, # Try with or without. Without is better accuracy\n",
        "    fill_mode=\"nearest\",\n",
        ")\n",
        "# ^^^ DA improvement is less than 5% but helps curb overfitting for 10-15 more epochs\n",
        "train_generator = train_datagen.flow_from_directory(\n",
        "    train_dir,\n",
        "    target_size=img_size,  # All images will be resized to 224x224\n",
        "    batch_size=18,  # Use default batch size 32? 18 is better for the this Mac Pro's GPU\n",
        "    shuffle=False,  # default is True\n",
        "    class_mode=\"binary\",\n",
        ")  # Binary classification problem. Benign or malignant\n",
        "\n",
        "vali_datagen = ImageDataGenerator(rescale=1.0 / 255)  # No DA\n",
        "validation_generator = vali_datagen.flow_from_directory(\n",
        "    vali_dir,\n",
        "    target_size=img_size,\n",
        "    batch_size=10,\n",
        "    shuffle=False,\n",
        "    class_mode=\"binary\",\n",
        ")\n",
        "\n",
        "test_datagen = ImageDataGenerator(rescale=1.0 / 255)  # No DA\n",
        "test_generator = test_datagen.flow_from_directory(\n",
        "    test_dir,\n",
        "    target_size=img_size,\n",
        "    batch_size=267,  # a batch with all test images at once\n",
        "    shuffle=False,\n",
        "    class_mode=\"binary\",\n",
        ")"
      ]
    },
    {
      "cell_type": "markdown",
      "metadata": {
        "id": "pxWYFOZMe2yf"
      },
      "source": [
        "# Build CNN"
      ]
    },
    {
      "cell_type": "code",
      "execution_count": null,
      "metadata": {
        "id": "iUJldh3xd8eu"
      },
      "outputs": [],
      "source": [
        "def build_model():\n",
        "    model = models.Sequential()\n",
        "\n",
        "    model.add(layers.Conv2D(3, (3, 3), activation=\"relu\", input_shape=(60, 60, 3)))\n",
        "    # model.add(layers.DepthwiseConv2D((5, 5), activation=\"relu\"))\n",
        "    # model.add(layers.DepthwiseConv2D((7, 7), activation=\"relu\"))\n",
        "    model.add(layers.MaxPooling2D((3, 3)))\n",
        "    \n",
        "    model.add(layers.Conv2D(3, (3, 3), activation=\"relu\"))\n",
        "    # model.add(layers.SpatialDropout2D(0.2))\n",
        "    # model.add(layers.Conv2D(9, (9, 9), activation=\"relu\"))\n",
        "    # model.add(layers.MaxPooling2D((2, 2)))\n",
        "    \n",
        "    # model.add(layers.Conv2D(19, (9, 9), activation=\"relu\"))\n",
        "    model.add(layers.MaxPooling2D((3, 3)))\n",
        "    model.add(layers.Flatten())  # CNN flattened\n",
        "    \n",
        "    model.add(layers.Dense(896, activation=\"relu\"))  # DNN\n",
        "    model.add(layers.Dropout(0.1))\n",
        "    model.add(layers.Dense(147, activation=\"relu\"))\n",
        "    model.add(layers.Dense(1, activation=\"sigmoid\"))\n",
        "\n",
        "    model.compile(\n",
        "        loss=\"binary_crossentropy\",\n",
        "        optimizer=optimizers.RMSprop(learning_rate=1e-4),\n",
        "        metrics=[\"acc\"],\n",
        "    )\n",
        "    return model"
      ]
    },
    {
      "cell_type": "code",
      "execution_count": null,
      "metadata": {
        "colab": {
          "background_save": true,
          "base_uri": "https://localhost:8080/"
        },
        "id": "e30uy_XReeAC",
        "outputId": "af555f3c-5946-4c13-eddf-06bf6d1e6fc6"
      },
      "outputs": [],
      "source": [
        "# Start logging\n",
        "experiment = comet_ml.Experiment(\n",
        "    # auto_histogram_weight_logging=True,\n",
        "    # auto_histogram_gradient_logging=True,\n",
        "    # auto_histogram_activation_logging=True,\n",
        ")\n",
        "\n",
        "# Start Training and Validation\n",
        "model_DA = build_model()\n",
        "model_DA.summary()\n",
        "history = model_DA.fit(\n",
        "    train_generator,\n",
        "    steps_per_epoch=100,\n",
        "    epochs=50,\n",
        "    validation_data=validation_generator,\n",
        "    validation_steps=50,\n",
        "    verbose=2,\n",
        ")"
      ]
    },
    {
      "cell_type": "code",
      "execution_count": null,
      "metadata": {
        "colab": {
          "background_save": true
        },
        "id": "NSC6RqFUmz6p"
      },
      "outputs": [],
      "source": [
        "import matplotlib.pyplot as plt\n",
        "\n",
        "acc2 = history.history[\"acc\"]\n",
        "val_acc2 = history.history[\"val_acc\"]\n",
        "loss2 = history.history[\"loss\"]\n",
        "val_loss2 = history.history[\"val_loss\"]\n",
        "\n",
        "epochs = range(len(acc2))\n",
        "\n",
        "plt.plot(epochs, acc2, \"b\", label=\"Training acc\")\n",
        "plt.plot(epochs, val_acc2, \"r\", label=\"Validation acc\")\n",
        "plt.title(\"Training and validation accuracy\")\n",
        "plt.legend()\n",
        "\n",
        "plt.figure()\n",
        "\n",
        "plt.plot(epochs, loss2, \"b\", label=\"Training loss\")\n",
        "plt.plot(epochs, val_loss2, \"r\", label=\"Validation loss\")\n",
        "plt.title(\"Training and validation loss\")\n",
        "plt.legend()\n",
        "\n",
        "plt.show()"
      ]
    },
    {
      "cell_type": "code",
      "execution_count": null,
      "metadata": {
        "colab": {
          "background_save": true
        },
        "id": "sp84VhoXPaK6"
      },
      "outputs": [],
      "source": [
        "import os.path\n",
        "\n",
        "path, dirs, files = next(os.walk(\"/Users/cedar/Downloads/HW8/history_files\"))\n",
        "file_count = len(files)\n",
        "save_path = \"history_files/\"\n",
        "name_of_file = \"model_\"\n",
        "completeName = os.path.join(save_path, name_of_file + str(file_count) + \".h5\")\n",
        "# model_DA.save('history_files/skin_cancer_03.h5')\n",
        "print(completeName)\n",
        "model_DA.save(completeName)"
      ]
    },
    {
      "cell_type": "code",
      "execution_count": null,
      "metadata": {
        "colab": {
          "background_save": true
        },
        "id": "MGW1B81Ot41h"
      },
      "outputs": [],
      "source": [
        "# • Use any (as many) techniques covered in class\n",
        "# • At least, for each model introduced\n",
        "#    CHECK - Validation graphs (accuracy and loss)\n",
        "#    CHECK - model.evaluate(…) to test (140+127=267) test images using the trained model. Must display test accuracy\n",
        "#    CHECK - batch of all 267 test images ONCE. \n",
        "#    CHECK - Must use m.evaluate(test_generator, steps = 1), only ONCE. \n",
        "#    CHECK - Shuffle for DA must be false. https://keras.io/api/preprocessing/image/\n",
        "#    Display some images that failed in the classification with proper labels (e.g. false positive or false negative)\n",
        "# • Compare and summarize your results. \n",
        "# • Best test accuracy\n",
        "# • Upload hw8_yourname.ipynb file on Canvas"
      ]
    },
    {
      "cell_type": "code",
      "execution_count": null,
      "metadata": {},
      "outputs": [],
      "source": [
        "# Run the test dataset to find the accuracy\n",
        "test_loss, test_acc = model_DA.evaluate(test_generator, steps=1)  # generator will get both data and label\n",
        "print(f\"test acc: {test_acc*100.0:.2f}%\")"
      ]
    },
    {
      "cell_type": "code",
      "execution_count": null,
      "metadata": {
        "colab": {
          "background_save": true
        },
        "id": "hV1ALklmJySt"
      },
      "outputs": [],
      "source": [
        "# Plot the results, actual v/s model confidence\n",
        "import matplotlib.pyplot as plt\n",
        "\n",
        "plt.figure(figsize=(6, 6))\n",
        "images = test_generator[0][0]\n",
        "labels = test_generator[0][1]\n",
        "results = model_DA.predict(test_generator)\n",
        "for i in range(12):\n",
        "    plt.subplot(4, 3, i + 1)\n",
        "    i = i + 134  # offset for un-shuffled dataset\n",
        "    plt.tight_layout()\n",
        "    plt.imshow(images[i])\n",
        "    actual = int(labels[i])\n",
        "    predicted = results[i][0]\n",
        "    predicted = round(float(predicted), 3)\n",
        "    title = f\"{actual}::{predicted}\"\n",
        "    if actual - predicted < -0.5:  # false positive or false negative\n",
        "        title = f\"{actual}::{predicted}::F+ve\"\n",
        "    if actual - predicted > 0.5:\n",
        "        title = f\"{actual}::{predicted}::F-ve\"\n",
        "    plt.title(title)\n",
        "    plt.xticks([])\n",
        "    plt.yticks([])"
      ]
    },
    {
      "cell_type": "code",
      "execution_count": null,
      "metadata": {},
      "outputs": [],
      "source": [
        "experiment.end()  # CometML stop logging"
      ]
    }
  ],
  "metadata": {
    "colab": {
      "provenance": []
    },
    "gpuClass": "standard",
    "kernelspec": {
      "display_name": "Python 3",
      "name": "python3"
    },
    "language_info": {
      "codemirror_mode": {
        "name": "ipython",
        "version": 3
      },
      "file_extension": ".py",
      "mimetype": "text/x-python",
      "name": "python",
      "nbconvert_exporter": "python",
      "pygments_lexer": "ipython3",
      "version": "3.10.11"
    }
  },
  "nbformat": 4,
  "nbformat_minor": 0
}
